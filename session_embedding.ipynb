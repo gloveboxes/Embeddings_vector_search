{
 "cells": [
  {
   "cell_type": "code",
   "execution_count": null,
   "id": "497ccf36",
   "metadata": {},
   "outputs": [],
   "source": [
    "# !pip install tiktoken"
   ]
  },
  {
   "cell_type": "markdown",
   "id": "1b590b9c",
   "metadata": {},
   "source": [
    "Model references\n",
    "================\n",
    "https://learn.microsoft.com/en-US/azure/ai-services/openai/reference\n",
    "\n",
    "Tutorial references\n",
    "===================\n",
    "https://learn.microsoft.com/en-us/azure/ai-services/openai/tutorials/embeddings?tabs=command-line\n"
   ]
  },
  {
   "cell_type": "code",
   "execution_count": null,
   "id": "4e082724-c77a-4188-889a-fb5eb028d298",
   "metadata": {},
   "outputs": [],
   "source": [
    "import openai\n",
    "import os\n",
    "import re\n",
    "import requests\n",
    "# import sys\n",
    "# from num2words import num2words\n",
    "import os\n",
    "import pandas as pd\n",
    "# import numpy as np\n",
    "from openai.embeddings_utils import get_embedding, cosine_similarity\n",
    "import tiktoken\n",
    "\n",
    "API_KEY = os.getenv(\"AZURE_OPENAI_API_KEY\") \n",
    "RESOURCE_ENDPOINT = os.getenv(\"AZURE_OPENAI_ENDPOINT\") \n",
    "\n",
    "openai.api_type = \"azure\"\n",
    "openai.api_key = API_KEY\n",
    "openai.api_base = RESOURCE_ENDPOINT\n",
    "openai.api_version = \"2023-05-15\"\n",
    "\n",
    "url = openai.api_base + \"/openai/deployments?api-version=2023-03-15-preview\" \n",
    "\n",
    "r = requests.get(url, headers={\"api-key\": API_KEY})\n",
    "\n",
    "print(r.text)"
   ]
  },
  {
   "cell_type": "code",
   "execution_count": null,
   "id": "88f6fb03-6f92-41b0-9491-a19f887012b4",
   "metadata": {},
   "outputs": [],
   "source": [
    "df = pd.read_csv(\"master.csv\") # example: df = pd.read_csv(\"./data/bill_sum_data.csv\")df\n",
    "df"
   ]
  },
  {
   "cell_type": "code",
   "execution_count": null,
   "id": "9ee11565-f6c4-450b-9fc4-e42249ae2511",
   "metadata": {},
   "outputs": [],
   "source": [
    "df_bills = df[['text', 'videoId', 'description', 'title', 'speaker']]\n",
    "df_bills"
   ]
  },
  {
   "cell_type": "code",
   "execution_count": null,
   "id": "5c055a39-29f9-4c32-8820-27284eed0bc7",
   "metadata": {},
   "outputs": [],
   "source": [
    "# s is input text\n",
    "def normalize_text(s, sep_token = \" \\n \"):\n",
    "    s = re.sub(r'\\s+',  ' ', s).strip()\n",
    "    s = re.sub(r\". ,\",\"\",s)\n",
    "    # remove all instances of multiple spaces\n",
    "    s = s.replace(\"..\",\".\")\n",
    "    s = s.replace(\". .\",\".\")\n",
    "    s = s.replace(\"\\n\", \"\")\n",
    "    s = s.strip()\n",
    "    \n",
    "    return s\n",
    "\n",
    "df_bills['text'] = df_bills[\"text\"].apply(lambda x : normalize_text(x))"
   ]
  },
  {
   "cell_type": "code",
   "execution_count": null,
   "id": "5ffcb5fa-60f6-416b-a1e7-87bd92685511",
   "metadata": {},
   "outputs": [],
   "source": [
    "tokenizer = tiktoken.get_encoding(\"cl100k_base\")\n",
    "df_bills['n_tokens'] = df_bills[\"text\"].apply(lambda x: len(tokenizer.encode(x)))\n",
    "df_bills = df_bills[df_bills.n_tokens<8192]\n",
    "len(df_bills)"
   ]
  },
  {
   "cell_type": "code",
   "execution_count": null,
   "id": "6b55d1f6-c8d4-45ad-bef8-ffc41ff67d43",
   "metadata": {},
   "outputs": [],
   "source": [
    "df_bills"
   ]
  },
  {
   "cell_type": "code",
   "execution_count": null,
   "id": "18352c6e-6891-4f68-a8f6-9a17f8fdcc0f",
   "metadata": {},
   "outputs": [],
   "source": [
    "print(df_bills.text[2])\n",
    "\n",
    "sample_encode = tokenizer.encode(df_bills.text[2]) \n",
    "decode = tokenizer.decode_tokens_bytes(sample_encode)\n",
    "decode"
   ]
  },
  {
   "cell_type": "code",
   "execution_count": null,
   "id": "c20c1633-abda-45e4-9807-f531131fa572",
   "metadata": {},
   "outputs": [],
   "source": [
    "len(decode)"
   ]
  },
  {
   "cell_type": "code",
   "execution_count": null,
   "id": "99f39523-4d1c-49fc-b29e-a0b71a70cfad",
   "metadata": {},
   "outputs": [],
   "source": [
    "df_bills['ada_v2'] = df_bills[\"text\"].apply(lambda x : get_embedding(x, engine = 'text-embedding-ada-002')) # engine should be set to the deployment name you chose when you deployed the text-embedding-ada-002 (Version 2) model"
   ]
  },
  {
   "cell_type": "code",
   "execution_count": null,
   "id": "234c98c2-66ee-4b00-8603-d2fd8031e494",
   "metadata": {},
   "outputs": [],
   "source": [
    "df_bills"
   ]
  },
  {
   "cell_type": "code",
   "execution_count": null,
   "id": "0f43d5da",
   "metadata": {},
   "outputs": [],
   "source": [
    "# Persist the embeddings to disk as a csv file\n",
    "df_bills.to_csv(\"master_embeddings.csv\", index=False)"
   ]
  }
 ],
 "metadata": {
  "kernelspec": {
   "display_name": "Python 3",
   "language": "python",
   "name": "python3"
  },
  "language_info": {
   "codemirror_mode": {
    "name": "ipython",
    "version": 3
   },
   "file_extension": ".py",
   "mimetype": "text/x-python",
   "name": "python",
   "nbconvert_exporter": "python",
   "pygments_lexer": "ipython3",
   "version": "3.11.4"
  }
 },
 "nbformat": 4,
 "nbformat_minor": 5
}
